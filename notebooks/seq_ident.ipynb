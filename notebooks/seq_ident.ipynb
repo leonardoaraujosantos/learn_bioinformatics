{
 "cells": [
  {
   "cell_type": "markdown",
   "metadata": {},
   "source": [
    "# Unknown Sequence Identification with BioPython\n",
    "\n",
    "#### References\n",
    "* https://blast.ncbi.nlm.nih.gov/Blast.cgi\n",
    "* https://biopython.org/DIST/docs/api/Bio.Blast.NCBIWWW-module.html\n",
    "* https://github.com/chris-rands/biopython-coronavirus/blob/master/biopython-coronavirus-notebook.ipynb\n",
    "* https://medium.com/analytics-vidhya/coronavirus-covid-19-genome-analysis-using-biopython-8b8cb1f4a041\n",
    "* https://github.com/peterjc/biopython_workshop"
   ]
  },
  {
   "cell_type": "code",
   "execution_count": 1,
   "metadata": {},
   "outputs": [
    {
     "name": "stdout",
     "output_type": "stream",
     "text": [
      "Python version: sys.version_info(major=3, minor=7, micro=6, releaselevel='final', serial=0)\n",
      "Biopython version: 1.76\n"
     ]
    }
   ],
   "source": [
    "import os\n",
    "import sys\n",
    "\n",
    "from urllib.request import urlretrieve\n",
    "\n",
    "import Bio\n",
    "from Bio import SeqIO, SearchIO, Entrez\n",
    "from Bio.Seq import Seq\n",
    "from Bio.SeqUtils import GC\n",
    "from Bio.Blast import NCBIWWW\n",
    "from Bio.Data import CodonTable\n",
    "\n",
    "print(\"Python version:\", sys.version_info)\n",
    "print(\"Biopython version:\", Bio.__version__)\n",
    "input_file = \"unknown-sequence.fa\""
   ]
  },
  {
   "cell_type": "markdown",
   "metadata": {},
   "source": [
    "#### Load Sequence\n",
    "Here we load a sequence and print it's content and size. Considering that we completelly sequence this genome. \n",
    "\n",
    "##### GC Content\n",
    "GC-content (or guanine-cytosine content) is the percentage of nitrogenous bases in a DNA or RNA molecule that are either guanine (G) or cytosine (C)."
   ]
  },
  {
   "cell_type": "code",
   "execution_count": 2,
   "metadata": {},
   "outputs": [
    {
     "name": "stdout",
     "output_type": "stream",
     "text": [
      "Sequence size: 29903\n",
      "Sequence: ATTAAAGGTTTATACCTTCCCAGGTAACAAACCAACCAACTTTCGATCTCTTGTAGATCTGTTCTCTAAACGAACTTTAAAATCTGTGTGGCTGTCACTCGGCTGCATGCTTAGTGCACTCACGCAGTATAATTAATAACTAATTACTGTCGTTGACAGGACACGAGTAACTCGTCTATCTTCTGCAGGCTGCTTACGGT\n",
      "Its a Virus because the complete sequence is small\n",
      "GC content (%) 37.97277865097148\n"
     ]
    }
   ],
   "source": [
    "record = SeqIO.read(input_file, \"fasta\")\n",
    "print('Sequence size:', len(record.seq))\n",
    "# Just print the first 200 nucleotides\n",
    "print('Sequence:', str(record.seq)[0:200])\n",
    "\n",
    "if len(record.seq) < 150000:\n",
    "    print('Its a Virus because the complete sequence is small')\n",
    "    \n",
    "# Print the GC content\n",
    "# The GC content is 0.38, so the sequence is somewhat AT-rich, but within a 'normal' range.\n",
    "print(\"GC content (%)\", GC(record.seq))"
   ]
  },
  {
   "cell_type": "markdown",
   "metadata": {},
   "source": [
    "#### Compare to other genome sequences\n",
    "We will use Blast to search for this particular sequence.\n",
    "Let's use BLAST to align the unknown sequence to other annoated sequences in the NCBI nt database, which contains sequences from many different species from accross the tree of life.\n",
    "This may take ~10 minutes since we are doing an online search against many sequences (for larger queries, it would sensible to run BLAST locally instead; see Bio.Blast.Applications)"
   ]
  },
  {
   "cell_type": "code",
   "execution_count": null,
   "metadata": {},
   "outputs": [],
   "source": [
    "result_handle = NCBIWWW.qblast(\"blastn\", \"nt\", record.seq)"
   ]
  },
  {
   "cell_type": "code",
   "execution_count": null,
   "metadata": {},
   "outputs": [],
   "source": []
  }
 ],
 "metadata": {
  "kernelspec": {
   "display_name": "Python 3",
   "language": "python",
   "name": "python3"
  },
  "language_info": {
   "codemirror_mode": {
    "name": "ipython",
    "version": 3
   },
   "file_extension": ".py",
   "mimetype": "text/x-python",
   "name": "python",
   "nbconvert_exporter": "python",
   "pygments_lexer": "ipython3",
   "version": "3.7.6"
  }
 },
 "nbformat": 4,
 "nbformat_minor": 4
}
