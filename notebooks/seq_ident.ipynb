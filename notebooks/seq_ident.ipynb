{
 "cells": [
  {
   "cell_type": "markdown",
   "metadata": {},
   "source": [
    "# Unknown Sequence Identification with BioPython\n",
    "This notebool will use the BLAST Online Service (trough Biopython) to identify (align) some unknown sequence of Nucleotides (Consider a complete sequence) to their database.\n",
    "\n",
    "#### Real life\n",
    "On real case scenarios it's often rare that some sequence will completly match to a database of previous sequences (Specially for Virus), so those services actually align and return the top sequences that has matching parts.\n",
    "\n",
    "#### References\n",
    "* https://blast.ncbi.nlm.nih.gov/Blast.cgi\n",
    "* https://biopython.org/DIST/docs/api/Bio.Blast.NCBIWWW-module.html\n",
    "* https://github.com/chris-rands/biopython-coronavirus/blob/master/biopython-coronavirus-notebook.ipynb\n",
    "* https://medium.com/analytics-vidhya/coronavirus-covid-19-genome-analysis-using-biopython-8b8cb1f4a041\n",
    "* https://github.com/peterjc/biopython_workshop\n",
    "* https://www.youtube.com/watch?v=QIZ8QH6JcC8\n",
    "* https://www.youtube.com/watch?v=8A-msg23u0w&list=PLQaBWYcv0RlZnZYwyAQUf8BdnlTTuHKPb"
   ]
  },
  {
   "cell_type": "code",
   "execution_count": 1,
   "metadata": {},
   "outputs": [
    {
     "name": "stdout",
     "output_type": "stream",
     "text": [
      "Python version: sys.version_info(major=3, minor=7, micro=6, releaselevel='final', serial=0)\n",
      "Biopython version: 1.76\n"
     ]
    }
   ],
   "source": [
    "import os\n",
    "import sys\n",
    "\n",
    "from urllib.request import urlretrieve\n",
    "\n",
    "import Bio\n",
    "from Bio import SeqIO, SearchIO, Entrez\n",
    "from Bio.Seq import Seq\n",
    "from Bio.SeqUtils import GC\n",
    "from Bio.Blast import NCBIWWW\n",
    "from Bio.Data import CodonTable\n",
    "\n",
    "print(\"Python version:\", sys.version_info)\n",
    "print(\"Biopython version:\", Bio.__version__)\n",
    "input_file = \"unknown-sequence.fa\""
   ]
  },
  {
   "cell_type": "markdown",
   "metadata": {},
   "source": [
    "#### Load Sequence\n",
    "Here we load a sequence and print it's content and size. Considering that we completelly sequence this genome.\n",
    "\n",
    "This sequence is around 30Kb(nucleotides) which is a high indication of a virus.\n",
    "\n",
    "##### GC Content\n",
    "GC-content (or guanine-cytosine content) is the percentage of nitrogenous bases in a DNA or RNA molecule that are either guanine (G) or cytosine (C)."
   ]
  },
  {
   "cell_type": "code",
   "execution_count": 2,
   "metadata": {},
   "outputs": [
    {
     "name": "stdout",
     "output_type": "stream",
     "text": [
      "Sequence size: 29903\n",
      "Sequence: ATTAAAGGTTTATACCTTCCCAGGTAACAAACCAACCAACTTTCGATCTCTTGTAGATCTGTTCTCTAAACGAACTTTAAAATCTGTGTGGCTGTCACTCGGCTGCATGCTTAGTGCACTCACGCAGTATAATTAATAACTAATTACTGTCGTTGACAGGACACGAGTAACTCGTCTATCTTCTGCAGGCTGCTTACGGT\n",
      "Its a Virus because the complete sequence is small\n",
      "GC content (%) 37.97277865097148\n"
     ]
    }
   ],
   "source": [
    "record = SeqIO.read(input_file, \"fasta\")\n",
    "print('Sequence size:', len(record.seq))\n",
    "# Just print the first 200 nucleotides\n",
    "print('Sequence:', str(record.seq)[0:200])\n",
    "\n",
    "if len(record.seq) < 150000:\n",
    "    print('Its a Virus because the complete sequence is small')\n",
    "    \n",
    "# Print the GC content\n",
    "# The GC content is 0.38, so the sequence is somewhat AT-rich, but within a 'normal' range.\n",
    "print(\"GC content (%)\", GC(record.seq))"
   ]
  },
  {
   "cell_type": "markdown",
   "metadata": {},
   "source": [
    "#### Compare to other genome sequences\n",
    "We will use Blast to search for this particular sequence.\n",
    "Let's use BLAST to align the unknown sequence to other annoated sequences in the NCBI nt database, which contains sequences from many different species from accross the tree of life.\n",
    "This may take ~10 minutes since we are doing an online search against many sequences (for larger queries, it would sensible to run BLAST locally instead; see Bio.Blast.Applications)"
   ]
  },
  {
   "cell_type": "code",
   "execution_count": 3,
   "metadata": {},
   "outputs": [],
   "source": [
    "# Use BlastN (nucleotide-nucleotide) to look for matching sequences\n",
    "result_handle = NCBIWWW.qblast(\"blastn\", \"nt\", record.seq)\n",
    "blast_qresult = SearchIO.read(result_handle, \"blast-xml\")"
   ]
  },
  {
   "cell_type": "markdown",
   "metadata": {},
   "source": [
    "#### Its the SARS-CoV-2 (Covid19)"
   ]
  },
  {
   "cell_type": "code",
   "execution_count": 4,
   "metadata": {},
   "outputs": [
    {
     "data": {
      "text/plain": [
       "['Severe acute respiratory syndrome coronavirus 2 isolate Wuhan-Hu-1, complete genome',\n",
       " 'Severe acute respiratory syndrome coronavirus 2 isolate SARS-CoV-2/human/CHN/SH01/2020, complete genome',\n",
       " 'Severe acute respiratory syndrome coronavirus 2 isolate BetaCoV/Wuhan/IPBCAMS-WH-03/2019, complete genome',\n",
       " 'Severe acute respiratory syndrome coronavirus 2 TKYE6182_2020 RNA, complete genome',\n",
       " 'Severe acute respiratory syndrome coronavirus 2 isolate SARS-CoV-2/human/CHN/105/2020, complete genome']"
      ]
     },
     "execution_count": 4,
     "metadata": {},
     "output_type": "execute_result"
    }
   ],
   "source": [
    "# Get description of the top 5\n",
    "[hit.description for hit in blast_qresult[:5]]"
   ]
  },
  {
   "cell_type": "markdown",
   "metadata": {},
   "source": [
    "#### Lets Select the first hit (The organism on BLAST database with biggest similarity)"
   ]
  },
  {
   "cell_type": "code",
   "execution_count": 5,
   "metadata": {},
   "outputs": [
    {
     "name": "stdout",
     "output_type": "stream",
     "text": [
      "Query: No\n",
      "       definition line\n",
      "  Hit: gi|1798174254|ref|NC_045512.2| (29903)\n",
      "       Severe acute respiratory syndrome coronavirus 2 isolate Wuhan-Hu-1, c...\n",
      " HSPs: ----  --------  ---------  ------  ---------------  ---------------------\n",
      "          #   E-value  Bit score    Span      Query range              Hit range\n",
      "       ----  --------  ---------  ------  ---------------  ---------------------\n",
      "          0         0   53927.40   29903        [0:29903]              [0:29903]\n",
      "NCBI ID: NC_045512.2\n"
     ]
    }
   ],
   "source": [
    "first_hit = blast_qresult[0]\n",
    "print(blast_qresult[0])\n",
    "# Split by | and get the 4th element\n",
    "NCBI_id = first_hit.id.split('|')[3]\n",
    "print('NCBI ID:',NCBI_id)"
   ]
  },
  {
   "cell_type": "markdown",
   "metadata": {},
   "source": [
    "## Use GenBank to gather more information\n",
    "We can get more information about the organism found on GenBank, for example:\n",
    "* Organism Type\n",
    "* The given molecule type (DNA or RNA)\n",
    "* The proteins encoded by genes (CDSs) that this particular organism creates."
   ]
  },
  {
   "cell_type": "code",
   "execution_count": 6,
   "metadata": {},
   "outputs": [],
   "source": [
    "Entrez.email = \"leonardoaraujo.santos@gmail.com\"\n",
    "# Get a handle for the nucleotide database using the NCBI ID we got for the first hit\n",
    "handle = Entrez.efetch(db=\"nucleotide\", id= NCBI_id, retmode=\"text\", rettype=\"gb\")\n",
    "genbank_record = SeqIO.read(handle, \"genbank\")"
   ]
  },
  {
   "cell_type": "code",
   "execution_count": 7,
   "metadata": {},
   "outputs": [
    {
     "data": {
      "text/plain": [
       "dict_keys(['molecule_type', 'topology', 'data_file_division', 'date', 'accessions', 'sequence_version', 'keywords', 'source', 'organism', 'taxonomy', 'references', 'comment', 'structured_comment'])"
      ]
     },
     "execution_count": 7,
     "metadata": {},
     "output_type": "execute_result"
    }
   ],
   "source": [
    "# Show all metadata available for this ID on GenBank\n",
    "genbank_record.annotations.keys()"
   ]
  },
  {
   "cell_type": "code",
   "execution_count": 8,
   "metadata": {},
   "outputs": [
    {
     "name": "stdout",
     "output_type": "stream",
     "text": [
      "Organism type: Severe acute respiratory syndrome coronavirus 2 \n",
      "Molecule type: ss-RNA\n"
     ]
    }
   ],
   "source": [
    "print('Organism type:', genbank_record.annotations[\"organism\"], '\\nMolecule type:',genbank_record.annotations[\"molecule_type\"])"
   ]
  },
  {
   "cell_type": "code",
   "execution_count": 9,
   "metadata": {},
   "outputs": [
    {
     "name": "stdout",
     "output_type": "stream",
     "text": [
      "{\"5'UTR\", \"3'UTR\", 'stem_loop', 'source', 'CDS', 'mat_peptide', 'gene'}\n",
      "This virus has: 12 protein encoding genes\n"
     ]
    }
   ],
   "source": [
    "feature_types = {feature.type for feature in genbank_record.features}\n",
    "print(feature_types)\n",
    "# Select genes that encode protein\n",
    "CDSs = [feature for feature in genbank_record.features if feature.type == \"CDS\"]\n",
    "print('This virus has:', len(CDSs), 'protein encoding genes')"
   ]
  },
  {
   "cell_type": "markdown",
   "metadata": {},
   "source": [
    "#### List all genes, their respective proteins"
   ]
  },
  {
   "cell_type": "code",
   "execution_count": 10,
   "metadata": {},
   "outputs": [
    {
     "name": "stdout",
     "output_type": "stream",
     "text": [
      "Gene: ORF1ab produces protein: ['ORF1ab polyprotein'] size: 7096\n",
      "***** Codon: MESLVPGFNEKTHVQLSLPVLQVRDVLVRGFGDSVEEVLSEARQHLKDGTCGLVEVEKGVLPQLEQPYVFIKRSDARTAPHGHVMVELVAELEGIQYGRS \n",
      "\n",
      "Gene: ORF1ab produces protein: ['ORF1a polyprotein'] size: 4405\n",
      "***** Codon: MESLVPGFNEKTHVQLSLPVLQVRDVLVRGFGDSVEEVLSEARQHLKDGTCGLVEVEKGVLPQLEQPYVFIKRSDARTAPHGHVMVELVAELEGIQYGRS \n",
      "\n",
      "Gene: S produces protein: ['surface glycoprotein'] size: 1273\n",
      "***** Codon: MFVFLVLLPLVSSQCVNLTTRTQLPPAYTNSFTRGVYYPDKVFRSSVLHSTQDLFLPFFSNVTWFHAIHVSGTNGTKRFDNPVLPFNDGVYFASTEKSNI \n",
      "\n",
      "Gene: ORF3a produces protein: ['ORF3a protein'] size: 275\n",
      "***** Codon: MDLFMRIFTIGTVTLKQGEIKDATPSDFVRATATIPIQASLPFGWLIVGVALLAVFQSASKIITLKKRWQLALSKGVHFVCNLLLLFVTVYSHLLLVAAG \n",
      "\n",
      "Gene: E produces protein: ['envelope protein'] size: 75\n",
      "***** Codon: MYSFVSEETGTLIVNSVLLFLAFVVFLLVTLAILTALRLCAYCCNIVNVSLVKPSFYVYSRVKNLNSSRVPDLLV \n",
      "\n",
      "Gene: M produces protein: ['membrane glycoprotein'] size: 222\n",
      "***** Codon: MADSNGTITVEELKKLLEQWNLVIGFLFLTWICLLQFAYANRNRFLYIIKLIFLWLLWPVTLACFVLAAVYRINWITGGIAIAMACLVGLMWLSYFIASF \n",
      "\n",
      "Gene: ORF6 produces protein: ['ORF6 protein'] size: 61\n",
      "***** Codon: MFHLVDFQVTIAEILLIIMRTFKVSIWNLDYIINLIIKNLSKSLTENKYSQLDEEQPMEID \n",
      "\n",
      "Gene: ORF7a produces protein: ['ORF7a protein'] size: 121\n",
      "***** Codon: MKIILFLALITLATCELYHYQECVRGTTVLLKEPCSSGTYEGNSPFHPLADNKFALTCFSTQFAFACPDGVKHVYQLRARSVSPKLFIRQEEVQELYSPI \n",
      "\n",
      "Gene: ORF7b produces protein: ['ORF7b'] size: 43\n",
      "***** Codon: MIELSLIDFYLCFLAFLLFLVLIMLIIFWFSLELQDHNETCHA \n",
      "\n",
      "Gene: ORF8 produces protein: ['ORF8 protein'] size: 121\n",
      "***** Codon: MKFLVFLGIITTVAAFHQECSLQSCTQHQPYVVDDPCPIHFYSKWYIRVGARKSAPLIELCVDEAGSKSPIQYIDIGNYTVSCLPFTINCQEPKLGSLVV \n",
      "\n",
      "Gene: N produces protein: ['nucleocapsid phosphoprotein'] size: 419\n",
      "***** Codon: MSDNGPQNQRNAPRITFGGPSDSTGSNQNGERSGARSKQRRPQGLPNNTASWFTALTQHGKEDLKFPRGQGVPINTNSSPDDQIGYYRRATRRIRGGDGK \n",
      "\n",
      "Gene: ORF10 produces protein: ['ORF10 protein'] size: 38\n",
      "***** Codon: MGYINVFAFPFTIYSLLLCRMNSRNYIAQVDVVNFNLT \n",
      "\n"
     ]
    }
   ],
   "source": [
    "for gene in CDSs:\n",
    "    protein_seq = Seq(gene.qualifiers[\"translation\"][0])\n",
    "    protein_size = len(protein_seq)\n",
    "    has_start_codon = protein_seq.startswith(\"M\")\n",
    "    print('Gene:', gene.qualifiers[\"gene\"][0], 'produces protein:', gene.qualifiers[\"product\"], 'size:', protein_size)\n",
    "    print('*'*5,'Codon:', protein_seq[0:100], '\\n')"
   ]
  }
 ],
 "metadata": {
  "kernelspec": {
   "display_name": "Python 3",
   "language": "python",
   "name": "python3"
  },
  "language_info": {
   "codemirror_mode": {
    "name": "ipython",
    "version": 3
   },
   "file_extension": ".py",
   "mimetype": "text/x-python",
   "name": "python",
   "nbconvert_exporter": "python",
   "pygments_lexer": "ipython3",
   "version": "3.7.6"
  }
 },
 "nbformat": 4,
 "nbformat_minor": 4
}
