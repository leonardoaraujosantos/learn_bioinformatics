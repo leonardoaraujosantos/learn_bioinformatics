{
 "cells": [
  {
   "cell_type": "markdown",
   "metadata": {},
   "source": [
    "# Unknown Sequence Identification with BioPython\n",
    "This notebool will use the BLAST Online Service (trough Biopython) to identify (align) some unknown sequence of Nucleotides (Consider a complete sequence) to their database.\n",
    "\n",
    "#### Real life\n",
    "On real case scenarios it's often rare that some sequence will completly match to a database of previous sequences (Specially for Virus), so those services actually align and return the top sequences that has matching parts.\n",
    "\n",
    "#### References\n",
    "* https://blast.ncbi.nlm.nih.gov/Blast.cgi\n",
    "* https://biopython.org/DIST/docs/api/Bio.Blast.NCBIWWW-module.html\n",
    "* https://github.com/chris-rands/biopython-coronavirus/blob/master/biopython-coronavirus-notebook.ipynb\n",
    "* https://medium.com/analytics-vidhya/coronavirus-covid-19-genome-analysis-using-biopython-8b8cb1f4a041\n",
    "* https://github.com/peterjc/biopython_workshop\n",
    "* https://www.youtube.com/watch?v=QIZ8QH6JcC8\n",
    "* https://www.youtube.com/watch?v=8A-msg23u0w&list=PLQaBWYcv0RlZnZYwyAQUf8BdnlTTuHKPb"
   ]
  },
  {
   "cell_type": "code",
   "execution_count": 1,
   "metadata": {},
   "outputs": [
    {
     "name": "stdout",
     "output_type": "stream",
     "text": [
      "Python version: sys.version_info(major=3, minor=7, micro=6, releaselevel='final', serial=0)\n",
      "Biopython version: 1.76\n"
     ]
    }
   ],
   "source": [
    "import os\n",
    "import sys\n",
    "\n",
    "from urllib.request import urlretrieve\n",
    "\n",
    "import Bio\n",
    "from Bio import SeqIO, SearchIO, Entrez\n",
    "from Bio.Seq import Seq\n",
    "from Bio.SeqUtils import GC\n",
    "from Bio.Blast import NCBIWWW\n",
    "from Bio.Data import CodonTable\n",
    "\n",
    "print(\"Python version:\", sys.version_info)\n",
    "print(\"Biopython version:\", Bio.__version__)\n",
    "input_file = \"unknown-sequence.fa\""
   ]
  },
  {
   "cell_type": "markdown",
   "metadata": {},
   "source": [
    "#### Load Sequence\n",
    "Here we load a sequence and print it's content and size. Considering that we completelly sequence this genome.\n",
    "\n",
    "This sequence is around 30Kb(nucleotides) which is a high indication of a virus.\n",
    "\n",
    "##### GC Content\n",
    "GC-content (or guanine-cytosine content) is the percentage of nitrogenous bases in a DNA or RNA molecule that are either guanine (G) or cytosine (C)."
   ]
  },
  {
   "cell_type": "code",
   "execution_count": 2,
   "metadata": {},
   "outputs": [
    {
     "name": "stdout",
     "output_type": "stream",
     "text": [
      "Sequence size: 29903\n",
      "Sequence: ATTAAAGGTTTATACCTTCCCAGGTAACAAACCAACCAACTTTCGATCTCTTGTAGATCTGTTCTCTAAACGAACTTTAAAATCTGTGTGGCTGTCACTCGGCTGCATGCTTAGTGCACTCACGCAGTATAATTAATAACTAATTACTGTCGTTGACAGGACACGAGTAACTCGTCTATCTTCTGCAGGCTGCTTACGGT\n",
      "Its a Virus because the complete sequence is small\n",
      "GC content (%) 37.97277865097148\n"
     ]
    }
   ],
   "source": [
    "record = SeqIO.read(input_file, \"fasta\")\n",
    "print('Sequence size:', len(record.seq))\n",
    "# Just print the first 200 nucleotides\n",
    "print('Sequence:', str(record.seq)[0:200])\n",
    "\n",
    "if len(record.seq) < 150000:\n",
    "    print('Its a Virus because the complete sequence is small')\n",
    "    \n",
    "# Print the GC content\n",
    "# The GC content is 0.38, so the sequence is somewhat AT-rich, but within a 'normal' range.\n",
    "print(\"GC content (%)\", GC(record.seq))"
   ]
  },
  {
   "cell_type": "markdown",
   "metadata": {},
   "source": [
    "#### Compare to other genome sequences\n",
    "We will use Blast to search for this particular sequence.\n",
    "Let's use BLAST to align the unknown sequence to other annoated sequences in the NCBI nt database, which contains sequences from many different species from accross the tree of life.\n",
    "This may take ~10 minutes since we are doing an online search against many sequences (for larger queries, it would sensible to run BLAST locally instead; see Bio.Blast.Applications)"
   ]
  },
  {
   "cell_type": "code",
   "execution_count": 3,
   "metadata": {},
   "outputs": [],
   "source": [
    "# Use BlastN (nucleotide-nucleotide) to look for matching sequences\n",
    "result_handle = NCBIWWW.qblast(\"blastn\", \"nt\", record.seq)"
   ]
  },
  {
   "cell_type": "code",
   "execution_count": null,
   "metadata": {},
   "outputs": [],
   "source": [
    "blast_qresult = SearchIO.read(result_handle, \"blast-xml\")"
   ]
  },
  {
   "cell_type": "code",
   "execution_count": 12,
   "metadata": {},
   "outputs": [
    {
     "name": "stdout",
     "output_type": "stream",
     "text": [
      "Program: blastn (2.10.0+)\n",
      "  Query: No (29903)\n",
      "         definition line\n",
      " Target: nt\n",
      "   Hits: ----  -----  ----------------------------------------------------------\n",
      "            #  # HSP  ID + description\n",
      "         ----  -----  ----------------------------------------------------------\n",
      "            0      1  gi|1798174254|ref|NC_045512.2|  Severe acute respirator...\n",
      "            1      1  gi|1819735426|gb|MT121215.1|  Severe acute respiratory ...\n",
      "            2      1  gi|1805293633|gb|MT019531.1|  Severe acute respiratory ...\n",
      "            3      1  gi|1820247323|dbj|LC529905.1|  Severe acute respiratory...\n",
      "            4      1  gi|1818244594|gb|MT135041.1|  Severe acute respiratory ...\n",
      "            5      1  gi|1805293611|gb|MT019529.1|  Severe acute respiratory ...\n",
      "            6      1  gi|1802633808|gb|MN996528.1|  Severe acute respiratory ...\n",
      "            7      1  gi|1818244616|gb|MT135043.1|  Severe acute respiratory ...\n",
      "            8      1  gi|1808633715|gb|MT049951.1|  Severe acute respiratory ...\n",
      "            9      1  gi|1805293644|gb|MT019532.1|  Severe acute respiratory ...\n",
      "           10      1  gi|1821109024|gb|MT192772.1|  Severe acute respiratory ...\n",
      "           11      1  gi|1828693642|gb|MT281577.1|  Severe acute respiratory ...\n",
      "           12      1  gi|1820097838|gb|MT163719.1|  Severe acute respiratory ...\n",
      "           13      1  gi|1824640757|gb|MT246480.1|  Severe acute respiratory ...\n",
      "           14      1  gi|1829813895|gb|MT322401.1|  Severe acute respiratory ...\n",
      "           15      1  gi|1826707670|gb|MT263396.1|  Severe acute respiratory ...\n",
      "           16      1  gi|1825594862|gb|MT251978.1|  Severe acute respiratory ...\n",
      "           17      1  gi|1829814228|gb|MT322424.1|  Severe acute respiratory ...\n",
      "           18      1  gi|1824640537|gb|MT246460.1|  Severe acute respiratory ...\n",
      "           19      1  gi|1829814111|gb|MT322417.1|  Severe acute respiratory ...\n",
      "           20      1  gi|1829813947|gb|MT322405.1|  Severe acute respiratory ...\n",
      "           21      1  gi|1820097825|gb|MT163718.1|  Severe acute respiratory ...\n",
      "           22      1  gi|1824640559|gb|MT246462.1|  Severe acute respiratory ...\n",
      "           23      1  gi|1819735612|gb|MT159710.1|  Severe acute respiratory ...\n",
      "           24      1  gi|1821109035|gb|MT192773.1|  Severe acute respiratory ...\n",
      "           25      1  gi|1800455117|gb|MN988668.1|  Severe acute respiratory ...\n",
      "           26      1  gi|1807860439|gb|MT039890.1|  Severe acute respiratory ...\n",
      "           27      1  gi|1805293655|gb|MT019533.1|  Severe acute respiratory ...\n",
      "           28      1  gi|1827910250|gb|MT276324.1|  Severe acute respiratory ...\n",
      "           29      1  gi|1826681705|gb|MT258381.1|  Severe acute respiratory ...\n",
      "           ~~~\n",
      "           47      1  gi|1826682233|gb|MT259278.1|  Severe acute respiratory ...\n",
      "           48      1  gi|1824640603|gb|MT246466.1|  Severe acute respiratory ...\n",
      "           49      1  gi|1829813999|gb|MT322409.1|  Severe acute respiratory ...\n"
     ]
    }
   ],
   "source": [
    "print(blast_qresult)"
   ]
  },
  {
   "cell_type": "markdown",
   "metadata": {},
   "source": [
    "#### Its the SARS-CoV-2 (Covid19)"
   ]
  },
  {
   "cell_type": "code",
   "execution_count": 13,
   "metadata": {},
   "outputs": [
    {
     "data": {
      "text/plain": [
       "['Severe acute respiratory syndrome coronavirus 2 isolate Wuhan-Hu-1, complete genome',\n",
       " 'Severe acute respiratory syndrome coronavirus 2 isolate SARS-CoV-2/human/CHN/SH01/2020, complete genome',\n",
       " 'Severe acute respiratory syndrome coronavirus 2 isolate BetaCoV/Wuhan/IPBCAMS-WH-03/2019, complete genome',\n",
       " 'Severe acute respiratory syndrome coronavirus 2 TKYE6182_2020 RNA, complete genome',\n",
       " 'Severe acute respiratory syndrome coronavirus 2 isolate SARS-CoV-2/human/CHN/105/2020, complete genome']"
      ]
     },
     "execution_count": 13,
     "metadata": {},
     "output_type": "execute_result"
    }
   ],
   "source": [
    "[hit.description for hit in blast_qresult[:5]]"
   ]
  },
  {
   "cell_type": "markdown",
   "metadata": {},
   "source": [
    "#### What's next?\n",
    "Logical next steps at the genome level might include building a multiple sequence alignment from many cornavirus genomes (checkout the Biopython wrapers/parsers for Clustal and Mafft and Bio.Align/Bio.parirwise2 plus Bio.AlignIO), building a phylogeny with an external tool like iq-tree and then viewing the tree with Bio.Phylo, the ete3 toolkit, or Jalview.\n",
    "Other protein level analyses could involve including building protein trees, annotating the proteins and vizulisation (e.g. Bio.Graphics), doing evolutionary rate analyses (e.g. Bio.Phylo.PAML), looking at protein structure, clustering and much more.\n",
    "These kind of analyses can provide useful biological and epidemiological information, very important for this coronavirus in an outbreak situation. For example, allowing tracking of how the outbreak spreads and indicating appropriate infection control measures, although caution in the inturpretation of results is always required. See Nextstrain for an excellent resource of this kind.\n",
    "Note, there is tons of other functionality in Biopython, this is just a very small fraction of the modules, see Peter Cock's Biopython workshop and the extensive official tutorial documentation."
   ]
  }
 ],
 "metadata": {
  "kernelspec": {
   "display_name": "Python 3",
   "language": "python",
   "name": "python3"
  },
  "language_info": {
   "codemirror_mode": {
    "name": "ipython",
    "version": 3
   },
   "file_extension": ".py",
   "mimetype": "text/x-python",
   "name": "python",
   "nbconvert_exporter": "python",
   "pygments_lexer": "ipython3",
   "version": "3.7.6"
  }
 },
 "nbformat": 4,
 "nbformat_minor": 4
}
